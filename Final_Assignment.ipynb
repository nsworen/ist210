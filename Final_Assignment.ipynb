{
  "nbformat": 4,
  "nbformat_minor": 0,
  "metadata": {
    "colab": {
      "name": "Final Assignment.ipynb",
      "provenance": [],
      "include_colab_link": true
    },
    "kernelspec": {
      "name": "python3",
      "display_name": "Python 3"
    }
  },
  "cells": [
    {
      "cell_type": "markdown",
      "metadata": {
        "id": "view-in-github",
        "colab_type": "text"
      },
      "source": [
        "<a href=\"https://colab.research.google.com/github/nsworen/ist210/blob/master/Final_Assignment.ipynb\" target=\"_parent\"><img src=\"https://colab.research.google.com/assets/colab-badge.svg\" alt=\"Open In Colab\"/></a>"
      ]
    },
    {
      "cell_type": "markdown",
      "metadata": {
        "id": "nV1NKXId4Mt2",
        "colab_type": "text"
      },
      "source": [
        "# **Introduction:**"
      ]
    },
    {
      "cell_type": "markdown",
      "metadata": {
        "id": "P4XmcJxRimcH",
        "colab_type": "text"
      },
      "source": [
        "We chose to create a database to help the organizers of a career fair have a structured view of all the data they collect on the students and companies attending. We chose this idea specifically because of how applicable a database was to it. The database stores data on student contact information, student academics, job postings by attending companies, information on the recruiters from each company, and information on booth occupancy. All this information is intertwined, which makes it a perfect candidate to benefit from the queries used with a database. When we originally started brainstorming this idea, we had five tables we wanted to collect information on: Job information, Company information, Student information, Student academic information, and Student’s real world experience. After further exploring the idea, we realized that we needed to make the tables connect better so we decided to replace the student academic information table with a table based solely on their transcripts and discard the real world experience table and replace it with a table called Company booths which stores information on the companies at each booth at the event (Ex: what booth a certain company is at). By doing this, all of our tables flowed nicely together which allowed us to connect all the tables and create our final ER diagram."
      ]
    },
    {
      "cell_type": "markdown",
      "metadata": {
        "id": "3ewn8hLl4HKz",
        "colab_type": "text"
      },
      "source": [
        "# **Final ER Diagram:**"
      ]
    },
    {
      "cell_type": "markdown",
      "metadata": {
        "id": "TeR-gYk3wmtl",
        "colab_type": "text"
      },
      "source": [
        "The Job Information table consists of all the job offerings at the career fair. Each job posting will have its own unique PostID. The Student Information table will be connected to the Job Information table through the PostID, so the students can see other postings they may be interested in. Each job posting will have a CompanyID associated with it, therefore the Job Information table can also be connected to the Company Information table. This way, information on companies can be looked up if a certain job posting is selected. The Company Information table is also linked to the Company Booths table by the CompanyID. If a select company is looked up, the user can find which booth they are currently located at. The Transcripts table is linked to the Student Information table by TranscriptID. This allows the user to easily run a query on a student to obtain their personal transcript.  \n",
        "\n",
        "\n",
        "\n",
        "![](https://raw.githubusercontent.com/nsworen/ist210/master/Final%20ER%20Diagram.png)"
      ]
    },
    {
      "cell_type": "markdown",
      "metadata": {
        "id": "W7utMLP_lrFX",
        "colab_type": "text"
      },
      "source": [
        "# **How we made our database:**"
      ]
    },
    {
      "cell_type": "markdown",
      "metadata": {
        "id": "LHgKHeNllwCj",
        "colab_type": "text"
      },
      "source": [
        "We created our database by using create statements for each table. For the table called JobInfo, attributes include PostID as text and the primary key, the date the job is available as text, the job title as text, the application deadline as text, the hourly rate as a real number, the location of the job as text, and the company name as text. For the StudentInfo table, attributes include the studentID as text and the primary key, the first name of the student as text, the last name as text, their transcript as text, their email as text, and the postID they are interested in as text. For the CompanyInfo table, attributes include the companyID as text and the primary key, the company name as text, the recruiter’s first name as text, the recruiter’s last name as text, and the industry the company is in as text. For the transcript table, the attributes include the transcript number as text and the primary key, the student’s primary major as text, the student’s GPA as a real number, and their graduation year as text. For the CompanyBooth table, attributes include their booth number as text and the primary key, the company ID as text, the date they will attend as text, and the time they will attend as text. Then, five rows of data were inserted into each table using insert statements. "
      ]
    },
    {
      "cell_type": "code",
      "metadata": {
        "id": "nIUE715IkB7E",
        "colab_type": "code",
        "outputId": "e8ddf3a1-eec9-469c-bb7b-1e5804a7ce13",
        "colab": {
          "base_uri": "https://localhost:8080/",
          "height": 34
        }
      },
      "source": [
        "%load_ext sql\n",
        "%sql sqlite:///CareerFairDatabase.db"
      ],
      "execution_count": 0,
      "outputs": [
        {
          "output_type": "execute_result",
          "data": {
            "text/plain": [
              "'Connected: @CareerFairDatabase.db'"
            ]
          },
          "metadata": {
            "tags": []
          },
          "execution_count": 1
        }
      ]
    },
    {
      "cell_type": "code",
      "metadata": {
        "id": "lrx023wklTJ1",
        "colab_type": "code",
        "outputId": "c6be210a-49a9-4911-cea5-9ad7f66b1dde",
        "colab": {
          "base_uri": "https://localhost:8080/",
          "height": 84
        }
      },
      "source": [
        "%%sql\n",
        "DROP TABLE IF EXISTS JobInfo;\n",
        "create table JobInfo (PostID text primary key, DateAvailable text, JobTitle text, ApplicationDeadline text, HourlyRate real, Location text, Company text)"
      ],
      "execution_count": 0,
      "outputs": [
        {
          "output_type": "stream",
          "text": [
            " * sqlite:///CareerFairDatabase.db\n",
            "Done.\n",
            "Done.\n"
          ],
          "name": "stdout"
        },
        {
          "output_type": "execute_result",
          "data": {
            "text/plain": [
              "[]"
            ]
          },
          "metadata": {
            "tags": []
          },
          "execution_count": 2
        }
      ]
    },
    {
      "cell_type": "code",
      "metadata": {
        "id": "5ss--Xe0mQ3W",
        "colab_type": "code",
        "outputId": "97e8532c-af74-42c7-dae0-84b19e9c1a90",
        "colab": {
          "base_uri": "https://localhost:8080/",
          "height": 134
        }
      },
      "source": [
        "%%sql\n",
        "insert into JobInfo values ('1234567', '2020-06-01', 'ResearchAssistant', '2020-04-26', 14.00, 'NewYork', 'PWC');\n",
        "insert into JobInfo values ('2345671', '2020-06-08', 'ProductionAssistant', '2020-04-30', 15.00, 'Pittsburgh',\t'KPMG');\n",
        "insert into JobInfo values ('3456712', '2020-06-15', 'ProductDevelopmentIntern', '2020-04-29', 13.00, 'Atlanta', 'P&G');\n",
        "insert into JobInfo values ('4567123', '2020-05-18', 'MarketingIntern', '2020-04-28', 12.00, 'Dallas', 'EY');\n",
        "insert into JobInfo values ('5671234', '2020-05-11', 'EngineeringIntern', '2020-04-27', 11.00, 'Pittsburgh', 'IBM');"
      ],
      "execution_count": 0,
      "outputs": [
        {
          "output_type": "stream",
          "text": [
            " * sqlite:///CareerFairDatabase.db\n",
            "1 rows affected.\n",
            "1 rows affected.\n",
            "1 rows affected.\n",
            "1 rows affected.\n",
            "1 rows affected.\n"
          ],
          "name": "stdout"
        },
        {
          "output_type": "execute_result",
          "data": {
            "text/plain": [
              "[]"
            ]
          },
          "metadata": {
            "tags": []
          },
          "execution_count": 3
        }
      ]
    },
    {
      "cell_type": "code",
      "metadata": {
        "id": "mIsi7_x_oKJr",
        "colab_type": "code",
        "outputId": "b0af88a6-1879-474f-aabc-830851c3998d",
        "colab": {
          "base_uri": "https://localhost:8080/",
          "height": 172
        }
      },
      "source": [
        "%%sql\n",
        "select * from JobInfo"
      ],
      "execution_count": 0,
      "outputs": [
        {
          "output_type": "stream",
          "text": [
            " * sqlite:///CareerFairDatabase.db\n",
            "Done.\n"
          ],
          "name": "stdout"
        },
        {
          "output_type": "execute_result",
          "data": {
            "text/html": [
              "<table>\n",
              "    <tr>\n",
              "        <th>PostID</th>\n",
              "        <th>DateAvailable</th>\n",
              "        <th>JobTitle</th>\n",
              "        <th>ApplicationDeadline</th>\n",
              "        <th>HourlyRate</th>\n",
              "        <th>Location</th>\n",
              "        <th>Company</th>\n",
              "    </tr>\n",
              "    <tr>\n",
              "        <td>1234567</td>\n",
              "        <td>2020-06-01</td>\n",
              "        <td>ResearchAssistant</td>\n",
              "        <td>2020-04-26</td>\n",
              "        <td>14.0</td>\n",
              "        <td>NewYork</td>\n",
              "        <td>PWC</td>\n",
              "    </tr>\n",
              "    <tr>\n",
              "        <td>2345671</td>\n",
              "        <td>2020-06-08</td>\n",
              "        <td>ProductionAssistant</td>\n",
              "        <td>2020-04-30</td>\n",
              "        <td>15.0</td>\n",
              "        <td>Pittsburgh</td>\n",
              "        <td>KPMG</td>\n",
              "    </tr>\n",
              "    <tr>\n",
              "        <td>3456712</td>\n",
              "        <td>2020-06-15</td>\n",
              "        <td>ProductDevelopmentIntern</td>\n",
              "        <td>2020-04-29</td>\n",
              "        <td>13.0</td>\n",
              "        <td>Atlanta</td>\n",
              "        <td>P&amp;G</td>\n",
              "    </tr>\n",
              "    <tr>\n",
              "        <td>4567123</td>\n",
              "        <td>2020-05-18</td>\n",
              "        <td>MarketingIntern</td>\n",
              "        <td>2020-04-28</td>\n",
              "        <td>12.0</td>\n",
              "        <td>Dallas</td>\n",
              "        <td>EY</td>\n",
              "    </tr>\n",
              "    <tr>\n",
              "        <td>5671234</td>\n",
              "        <td>2020-05-11</td>\n",
              "        <td>EngineeringIntern</td>\n",
              "        <td>2020-04-27</td>\n",
              "        <td>11.0</td>\n",
              "        <td>Pittsburgh</td>\n",
              "        <td>IBM</td>\n",
              "    </tr>\n",
              "</table>"
            ],
            "text/plain": [
              "[('1234567', '2020-06-01', 'ResearchAssistant', '2020-04-26', 14.0, 'NewYork', 'PWC'),\n",
              " ('2345671', '2020-06-08', 'ProductionAssistant', '2020-04-30', 15.0, 'Pittsburgh', 'KPMG'),\n",
              " ('3456712', '2020-06-15', 'ProductDevelopmentIntern', '2020-04-29', 13.0, 'Atlanta', 'P&G'),\n",
              " ('4567123', '2020-05-18', 'MarketingIntern', '2020-04-28', 12.0, 'Dallas', 'EY'),\n",
              " ('5671234', '2020-05-11', 'EngineeringIntern', '2020-04-27', 11.0, 'Pittsburgh', 'IBM')]"
            ]
          },
          "metadata": {
            "tags": []
          },
          "execution_count": 4
        }
      ]
    },
    {
      "cell_type": "code",
      "metadata": {
        "id": "rNCJLAP1oYZx",
        "colab_type": "code",
        "outputId": "21da5568-150d-4111-85fb-b3f1fb354129",
        "colab": {
          "base_uri": "https://localhost:8080/",
          "height": 84
        }
      },
      "source": [
        "%%sql\n",
        "DROP TABLE IF EXISTS StudentInfo;\n",
        "create table StudentInfo (StudentID text primary key, FirstName text, LastName text, Transcript text, Email text, PostID text)"
      ],
      "execution_count": 0,
      "outputs": [
        {
          "output_type": "stream",
          "text": [
            " * sqlite:///CareerFairDatabase.db\n",
            "Done.\n",
            "Done.\n"
          ],
          "name": "stdout"
        },
        {
          "output_type": "execute_result",
          "data": {
            "text/plain": [
              "[]"
            ]
          },
          "metadata": {
            "tags": []
          },
          "execution_count": 5
        }
      ]
    },
    {
      "cell_type": "code",
      "metadata": {
        "id": "7x0e2s8wo2J1",
        "colab_type": "code",
        "outputId": "ff1c7e22-16f1-431d-aefe-728ab2625788",
        "colab": {
          "base_uri": "https://localhost:8080/",
          "height": 134
        }
      },
      "source": [
        "%%sql\n",
        "insert into StudentInfo values ('298253456', 'Shruthi', 'Kripashankar', '2087403', 'sdf435', '1234567');\n",
        "insert into StudentInfo values ('309779590', 'Carolyn', 'Logue', '2649738', 'clj589', '2345671');\n",
        "insert into StudentInfo values ('974509703', 'Eva', 'Rhule', '3750479', 'ejf394', '3456712');\n",
        "insert into StudentInfo values ('389503759', 'Nik', 'Sworen', '9604759', 'not940', '4567123');\n",
        "insert into StudentInfo values ('305084729', 'Sponge', 'Bob', '4750375', 'sof938', '5671234');\n",
        "\n",
        "\n"
      ],
      "execution_count": 0,
      "outputs": [
        {
          "output_type": "stream",
          "text": [
            " * sqlite:///CareerFairDatabase.db\n",
            "1 rows affected.\n",
            "1 rows affected.\n",
            "1 rows affected.\n",
            "1 rows affected.\n",
            "1 rows affected.\n"
          ],
          "name": "stdout"
        },
        {
          "output_type": "execute_result",
          "data": {
            "text/plain": [
              "[]"
            ]
          },
          "metadata": {
            "tags": []
          },
          "execution_count": 6
        }
      ]
    },
    {
      "cell_type": "code",
      "metadata": {
        "id": "sXVd8j5OqEjv",
        "colab_type": "code",
        "outputId": "b488f1fe-00ce-4f3c-ffb4-ffe038ceed08",
        "colab": {
          "base_uri": "https://localhost:8080/",
          "height": 172
        }
      },
      "source": [
        "%%sql\n",
        "select * from StudentInfo"
      ],
      "execution_count": 0,
      "outputs": [
        {
          "output_type": "stream",
          "text": [
            " * sqlite:///CareerFairDatabase.db\n",
            "Done.\n"
          ],
          "name": "stdout"
        },
        {
          "output_type": "execute_result",
          "data": {
            "text/html": [
              "<table>\n",
              "    <tr>\n",
              "        <th>StudentID</th>\n",
              "        <th>FirstName</th>\n",
              "        <th>LastName</th>\n",
              "        <th>Transcript</th>\n",
              "        <th>Email</th>\n",
              "        <th>PostID</th>\n",
              "    </tr>\n",
              "    <tr>\n",
              "        <td>298253456</td>\n",
              "        <td>Shruthi</td>\n",
              "        <td>Kripashankar</td>\n",
              "        <td>2087403</td>\n",
              "        <td>sdf435</td>\n",
              "        <td>1234567</td>\n",
              "    </tr>\n",
              "    <tr>\n",
              "        <td>309779590</td>\n",
              "        <td>Carolyn</td>\n",
              "        <td>Logue</td>\n",
              "        <td>2649738</td>\n",
              "        <td>clj589</td>\n",
              "        <td>2345671</td>\n",
              "    </tr>\n",
              "    <tr>\n",
              "        <td>974509703</td>\n",
              "        <td>Eva</td>\n",
              "        <td>Rhule</td>\n",
              "        <td>3750479</td>\n",
              "        <td>ejf394</td>\n",
              "        <td>3456712</td>\n",
              "    </tr>\n",
              "    <tr>\n",
              "        <td>389503759</td>\n",
              "        <td>Nik</td>\n",
              "        <td>Sworen</td>\n",
              "        <td>9604759</td>\n",
              "        <td>not940</td>\n",
              "        <td>4567123</td>\n",
              "    </tr>\n",
              "    <tr>\n",
              "        <td>305084729</td>\n",
              "        <td>Sponge</td>\n",
              "        <td>Bob</td>\n",
              "        <td>4750375</td>\n",
              "        <td>sof938</td>\n",
              "        <td>5671234</td>\n",
              "    </tr>\n",
              "</table>"
            ],
            "text/plain": [
              "[('298253456', 'Shruthi', 'Kripashankar', '2087403', 'sdf435', '1234567'),\n",
              " ('309779590', 'Carolyn', 'Logue', '2649738', 'clj589', '2345671'),\n",
              " ('974509703', 'Eva', 'Rhule', '3750479', 'ejf394', '3456712'),\n",
              " ('389503759', 'Nik', 'Sworen', '9604759', 'not940', '4567123'),\n",
              " ('305084729', 'Sponge', 'Bob', '4750375', 'sof938', '5671234')]"
            ]
          },
          "metadata": {
            "tags": []
          },
          "execution_count": 7
        }
      ]
    },
    {
      "cell_type": "code",
      "metadata": {
        "id": "1Hj9bqWgrdM0",
        "colab_type": "code",
        "outputId": "1d5997c7-e6f7-4c33-9969-1c1681efef9d",
        "colab": {
          "base_uri": "https://localhost:8080/",
          "height": 84
        }
      },
      "source": [
        "%%sql\n",
        "DROP TABLE IF EXISTS CompanyInfo;\n",
        "create table CompanyInfo (Company text primary key, RecruiterFirstName text, RecruiterLastName text, Industry text)"
      ],
      "execution_count": 0,
      "outputs": [
        {
          "output_type": "stream",
          "text": [
            " * sqlite:///CareerFairDatabase.db\n",
            "Done.\n",
            "Done.\n"
          ],
          "name": "stdout"
        },
        {
          "output_type": "execute_result",
          "data": {
            "text/plain": [
              "[]"
            ]
          },
          "metadata": {
            "tags": []
          },
          "execution_count": 8
        }
      ]
    },
    {
      "cell_type": "code",
      "metadata": {
        "id": "a43CjvD4sSIQ",
        "colab_type": "code",
        "outputId": "9d4dab5f-953a-4c26-be68-fe2269a36410",
        "colab": {
          "base_uri": "https://localhost:8080/",
          "height": 134
        }
      },
      "source": [
        "%%sql\n",
        "insert into CompanyInfo values ('PWC', 'Anna', 'Smith', 'Tax');\n",
        "insert into CompanyInfo values ('KPMG', 'Mark', 'Sanders', 'News');\n",
        "insert into CompanyInfo values ('P&G', 'Sandy', 'Shenoy', 'Production');\n",
        "insert into CompanyInfo values ('EY', 'Jerry', 'Halbert', 'Marketing');\n",
        "insert into CompanyInfo values ('IBM', 'Justin', 'McDonald', 'Engineering');\n"
      ],
      "execution_count": 0,
      "outputs": [
        {
          "output_type": "stream",
          "text": [
            " * sqlite:///CareerFairDatabase.db\n",
            "1 rows affected.\n",
            "1 rows affected.\n",
            "1 rows affected.\n",
            "1 rows affected.\n",
            "1 rows affected.\n"
          ],
          "name": "stdout"
        },
        {
          "output_type": "execute_result",
          "data": {
            "text/plain": [
              "[]"
            ]
          },
          "metadata": {
            "tags": []
          },
          "execution_count": 9
        }
      ]
    },
    {
      "cell_type": "code",
      "metadata": {
        "id": "r9lVQcOVtbDm",
        "colab_type": "code",
        "outputId": "c95495a3-67e8-4038-83f0-adf54a6ac5e6",
        "colab": {
          "base_uri": "https://localhost:8080/",
          "height": 172
        }
      },
      "source": [
        "%%sql\n",
        "Select * from CompanyInfo"
      ],
      "execution_count": 0,
      "outputs": [
        {
          "output_type": "stream",
          "text": [
            " * sqlite:///CareerFairDatabase.db\n",
            "Done.\n"
          ],
          "name": "stdout"
        },
        {
          "output_type": "execute_result",
          "data": {
            "text/html": [
              "<table>\n",
              "    <tr>\n",
              "        <th>Company</th>\n",
              "        <th>RecruiterFirstName</th>\n",
              "        <th>RecruiterLastName</th>\n",
              "        <th>Industry</th>\n",
              "    </tr>\n",
              "    <tr>\n",
              "        <td>PWC</td>\n",
              "        <td>Anna</td>\n",
              "        <td>Smith</td>\n",
              "        <td>Tax</td>\n",
              "    </tr>\n",
              "    <tr>\n",
              "        <td>KPMG</td>\n",
              "        <td>Mark</td>\n",
              "        <td>Sanders</td>\n",
              "        <td>News</td>\n",
              "    </tr>\n",
              "    <tr>\n",
              "        <td>P&amp;G</td>\n",
              "        <td>Sandy</td>\n",
              "        <td>Shenoy</td>\n",
              "        <td>Production</td>\n",
              "    </tr>\n",
              "    <tr>\n",
              "        <td>EY</td>\n",
              "        <td>Jerry</td>\n",
              "        <td>Halbert</td>\n",
              "        <td>Marketing</td>\n",
              "    </tr>\n",
              "    <tr>\n",
              "        <td>IBM</td>\n",
              "        <td>Justin</td>\n",
              "        <td>McDonald</td>\n",
              "        <td>Engineering</td>\n",
              "    </tr>\n",
              "</table>"
            ],
            "text/plain": [
              "[('PWC', 'Anna', 'Smith', 'Tax'),\n",
              " ('KPMG', 'Mark', 'Sanders', 'News'),\n",
              " ('P&G', 'Sandy', 'Shenoy', 'Production'),\n",
              " ('EY', 'Jerry', 'Halbert', 'Marketing'),\n",
              " ('IBM', 'Justin', 'McDonald', 'Engineering')]"
            ]
          },
          "metadata": {
            "tags": []
          },
          "execution_count": 10
        }
      ]
    },
    {
      "cell_type": "markdown",
      "metadata": {
        "id": "BUwCdeDIgkcx",
        "colab_type": "text"
      },
      "source": [
        ""
      ]
    },
    {
      "cell_type": "code",
      "metadata": {
        "id": "4Fe1WSNetgFb",
        "colab_type": "code",
        "outputId": "1f85e63b-d9e9-403d-cdfc-f089a1f26df8",
        "colab": {
          "base_uri": "https://localhost:8080/",
          "height": 84
        }
      },
      "source": [
        "%%sql\n",
        "DROP TABLE IF EXISTS Transcripts;\n",
        "create table Transcripts (Transcript text primary key, PrimaryMajor text, GPA real, GraduationYear text)"
      ],
      "execution_count": 0,
      "outputs": [
        {
          "output_type": "stream",
          "text": [
            " * sqlite:///CareerFairDatabase.db\n",
            "Done.\n",
            "Done.\n"
          ],
          "name": "stdout"
        },
        {
          "output_type": "execute_result",
          "data": {
            "text/plain": [
              "[]"
            ]
          },
          "metadata": {
            "tags": []
          },
          "execution_count": 11
        }
      ]
    },
    {
      "cell_type": "code",
      "metadata": {
        "id": "tmbNHsspuHkH",
        "colab_type": "code",
        "outputId": "762872f4-75da-4ddc-d167-9d5b020b188c",
        "colab": {
          "base_uri": "https://localhost:8080/",
          "height": 134
        }
      },
      "source": [
        "%%sql\n",
        "insert into Transcripts values ('2087403', 'Economics', 3.4, '2020');\n",
        "insert into Transcripts values ('2649738', 'CyberSecurity', 3.5, '2021');\n",
        "insert into Transcripts values ('3750479', 'Telecommunications', 3.6, '2022');\n",
        "insert into Transcripts values ('9604759', 'IST', 3.7, '2023');\n",
        "insert into Transcripts values ('4750375', 'IndustrialEngineering', 3.8, '2024');\n",
        "\n"
      ],
      "execution_count": 0,
      "outputs": [
        {
          "output_type": "stream",
          "text": [
            " * sqlite:///CareerFairDatabase.db\n",
            "1 rows affected.\n",
            "1 rows affected.\n",
            "1 rows affected.\n",
            "1 rows affected.\n",
            "1 rows affected.\n"
          ],
          "name": "stdout"
        },
        {
          "output_type": "execute_result",
          "data": {
            "text/plain": [
              "[]"
            ]
          },
          "metadata": {
            "tags": []
          },
          "execution_count": 12
        }
      ]
    },
    {
      "cell_type": "code",
      "metadata": {
        "id": "x_NO-72du7y8",
        "colab_type": "code",
        "outputId": "69b2f91c-ef48-4a9e-f36f-ae19e67cd8a6",
        "colab": {
          "base_uri": "https://localhost:8080/",
          "height": 172
        }
      },
      "source": [
        "%%sql\n",
        "select * from Transcripts\n"
      ],
      "execution_count": 0,
      "outputs": [
        {
          "output_type": "stream",
          "text": [
            " * sqlite:///CareerFairDatabase.db\n",
            "Done.\n"
          ],
          "name": "stdout"
        },
        {
          "output_type": "execute_result",
          "data": {
            "text/html": [
              "<table>\n",
              "    <tr>\n",
              "        <th>Transcript</th>\n",
              "        <th>PrimaryMajor</th>\n",
              "        <th>GPA</th>\n",
              "        <th>GraduationYear</th>\n",
              "    </tr>\n",
              "    <tr>\n",
              "        <td>2087403</td>\n",
              "        <td>Economics</td>\n",
              "        <td>3.4</td>\n",
              "        <td>2020</td>\n",
              "    </tr>\n",
              "    <tr>\n",
              "        <td>2649738</td>\n",
              "        <td>CyberSecurity</td>\n",
              "        <td>3.5</td>\n",
              "        <td>2021</td>\n",
              "    </tr>\n",
              "    <tr>\n",
              "        <td>3750479</td>\n",
              "        <td>Telecommunications</td>\n",
              "        <td>3.6</td>\n",
              "        <td>2022</td>\n",
              "    </tr>\n",
              "    <tr>\n",
              "        <td>9604759</td>\n",
              "        <td>IST</td>\n",
              "        <td>3.7</td>\n",
              "        <td>2023</td>\n",
              "    </tr>\n",
              "    <tr>\n",
              "        <td>4750375</td>\n",
              "        <td>IndustrialEngineering</td>\n",
              "        <td>3.8</td>\n",
              "        <td>2024</td>\n",
              "    </tr>\n",
              "</table>"
            ],
            "text/plain": [
              "[('2087403', 'Economics', 3.4, '2020'),\n",
              " ('2649738', 'CyberSecurity', 3.5, '2021'),\n",
              " ('3750479', 'Telecommunications', 3.6, '2022'),\n",
              " ('9604759', 'IST', 3.7, '2023'),\n",
              " ('4750375', 'IndustrialEngineering', 3.8, '2024')]"
            ]
          },
          "metadata": {
            "tags": []
          },
          "execution_count": 13
        }
      ]
    },
    {
      "cell_type": "code",
      "metadata": {
        "id": "cjl5t9cIvFpV",
        "colab_type": "code",
        "outputId": "a230b931-c6aa-48a8-9ad6-8f1ce3566091",
        "colab": {
          "base_uri": "https://localhost:8080/",
          "height": 84
        }
      },
      "source": [
        "%%sql\n",
        "DROP TABLE IF EXISTS CompanyBooths;\n",
        "create table CompanyBooths (BoothNumber text primary key, Company text, Date text, Time text);"
      ],
      "execution_count": 0,
      "outputs": [
        {
          "output_type": "stream",
          "text": [
            " * sqlite:///CareerFairDatabase.db\n",
            "Done.\n",
            "Done.\n"
          ],
          "name": "stdout"
        },
        {
          "output_type": "execute_result",
          "data": {
            "text/plain": [
              "[]"
            ]
          },
          "metadata": {
            "tags": []
          },
          "execution_count": 14
        }
      ]
    },
    {
      "cell_type": "code",
      "metadata": {
        "id": "6XLwOsmXvZKw",
        "colab_type": "code",
        "outputId": "7fdf6f44-2b32-4156-93d9-4e8e488a1358",
        "colab": {
          "base_uri": "https://localhost:8080/",
          "height": 134
        }
      },
      "source": [
        "%%sql\n",
        "insert into CompanyBooths values ('345', 'PWC', '2020-05-01', '14:00');\n",
        "insert into CompanyBooths values ('346', 'KPMG', '2020-05-02', '13:00');\n",
        "insert into CompanyBooths values ('347', 'P&G', '2020-05-03', '12:00');\n",
        "insert into CompanyBooths values ('348', 'EY', '2020-05-04', '11:00');\n",
        "insert into CompanyBooths values ('349', 'IBM', '2020-05-05', '10:00');\n"
      ],
      "execution_count": 0,
      "outputs": [
        {
          "output_type": "stream",
          "text": [
            " * sqlite:///CareerFairDatabase.db\n",
            "1 rows affected.\n",
            "1 rows affected.\n",
            "1 rows affected.\n",
            "1 rows affected.\n",
            "1 rows affected.\n"
          ],
          "name": "stdout"
        },
        {
          "output_type": "execute_result",
          "data": {
            "text/plain": [
              "[]"
            ]
          },
          "metadata": {
            "tags": []
          },
          "execution_count": 15
        }
      ]
    },
    {
      "cell_type": "code",
      "metadata": {
        "id": "-7aEazSlv8Mf",
        "colab_type": "code",
        "outputId": "aa06201b-e56d-466a-8abe-f4bbd7f12c98",
        "colab": {
          "base_uri": "https://localhost:8080/",
          "height": 172
        }
      },
      "source": [
        "%%sql\n",
        "select * from CompanyBooths"
      ],
      "execution_count": 0,
      "outputs": [
        {
          "output_type": "stream",
          "text": [
            " * sqlite:///CareerFairDatabase.db\n",
            "Done.\n"
          ],
          "name": "stdout"
        },
        {
          "output_type": "execute_result",
          "data": {
            "text/html": [
              "<table>\n",
              "    <tr>\n",
              "        <th>BoothNumber</th>\n",
              "        <th>Company</th>\n",
              "        <th>Date</th>\n",
              "        <th>Time</th>\n",
              "    </tr>\n",
              "    <tr>\n",
              "        <td>345</td>\n",
              "        <td>PWC</td>\n",
              "        <td>2020-05-01</td>\n",
              "        <td>14:00</td>\n",
              "    </tr>\n",
              "    <tr>\n",
              "        <td>346</td>\n",
              "        <td>KPMG</td>\n",
              "        <td>2020-05-02</td>\n",
              "        <td>13:00</td>\n",
              "    </tr>\n",
              "    <tr>\n",
              "        <td>347</td>\n",
              "        <td>P&amp;G</td>\n",
              "        <td>2020-05-03</td>\n",
              "        <td>12:00</td>\n",
              "    </tr>\n",
              "    <tr>\n",
              "        <td>348</td>\n",
              "        <td>EY</td>\n",
              "        <td>2020-05-04</td>\n",
              "        <td>11:00</td>\n",
              "    </tr>\n",
              "    <tr>\n",
              "        <td>349</td>\n",
              "        <td>IBM</td>\n",
              "        <td>2020-05-05</td>\n",
              "        <td>10:00</td>\n",
              "    </tr>\n",
              "</table>"
            ],
            "text/plain": [
              "[('345', 'PWC', '2020-05-01', '14:00'),\n",
              " ('346', 'KPMG', '2020-05-02', '13:00'),\n",
              " ('347', 'P&G', '2020-05-03', '12:00'),\n",
              " ('348', 'EY', '2020-05-04', '11:00'),\n",
              " ('349', 'IBM', '2020-05-05', '10:00')]"
            ]
          },
          "metadata": {
            "tags": []
          },
          "execution_count": 16
        }
      ]
    },
    {
      "cell_type": "markdown",
      "metadata": {
        "id": "E42bIP_m4YHA",
        "colab_type": "text"
      },
      "source": [
        "# **Scenario:**"
      ]
    },
    {
      "cell_type": "markdown",
      "metadata": {
        "id": "WcSDQH2E4j3o",
        "colab_type": "text"
      },
      "source": [
        "This database will be used by career fair organizers to collect, store, sort, and retriever data pertinent to the career fair. Suppose, for example, a career fair organizer needs to make an advertisement for the career fair. They could easily query the database to retrieve the companies that will be there and when, as well as the jobs they are offering to develop an advertisement. This would be quicker and more accurate than pulling from a paper table. The organizers could also use the count function to query for the number of booths and students to buy enough tables for companies to set up on, or flyers to give out. This will save money because they will not over buy, but also ensure there are enough tables for the recruiters and flyers for the students. This count could help determine if the chosen venue was too big or small for the amount of people attending this event. They could also choose to pass the student count data onto the recruiters, who could use that information to decide how much corporate paraphernalia like pens and lanyards they need to bring to give away. Lastly, queries for company job postings could allow the recruiters to organize the booths with similar companies looking for similar employees together. \n",
        "\n",
        "\n"
      ]
    },
    {
      "cell_type": "markdown",
      "metadata": {
        "id": "MjU2lYtZA3Wm",
        "colab_type": "text"
      },
      "source": [
        "\n",
        "\n",
        "\n",
        "\n",
        "\n",
        "\n",
        "### Query #1:\n",
        "\n",
        "This query will be used to collect information about students who are interested in a specific company, PwC in this case. The team organizing the career fair would be able to retrieve a list of the students’ contact information and be able to email them  about PwC and the job they are interested in. \n",
        "\n",
        "\n"
      ]
    },
    {
      "cell_type": "code",
      "metadata": {
        "id": "13vptMcXTI7a",
        "colab_type": "code",
        "outputId": "06eaa036-9cba-42ac-f8de-eb06c3a2a15d",
        "colab": {
          "base_uri": "https://localhost:8080/",
          "height": 92
        }
      },
      "source": [
        " %%sql\n",
        " SELECT FirstName, LastName, Email, j.Company, s.PostID FROM studentinfo s, jobinfo j, companyinfo c WHERE s.postID = j.PostID and j.Company = c.Company and j.company= \"PWC\""
      ],
      "execution_count": 0,
      "outputs": [
        {
          "output_type": "stream",
          "text": [
            " * sqlite:///CareerFairDatabase.db\n",
            "Done.\n"
          ],
          "name": "stdout"
        },
        {
          "output_type": "execute_result",
          "data": {
            "text/html": [
              "<table>\n",
              "    <tr>\n",
              "        <th>FirstName</th>\n",
              "        <th>LastName</th>\n",
              "        <th>Email</th>\n",
              "        <th>Company</th>\n",
              "        <th>PostID</th>\n",
              "    </tr>\n",
              "    <tr>\n",
              "        <td>Shruthi</td>\n",
              "        <td>Kripashankar</td>\n",
              "        <td>sdf435</td>\n",
              "        <td>PWC</td>\n",
              "        <td>1234567</td>\n",
              "    </tr>\n",
              "</table>"
            ],
            "text/plain": [
              "[('Shruthi', 'Kripashankar', 'sdf435', 'PWC', '1234567')]"
            ]
          },
          "metadata": {
            "tags": []
          },
          "execution_count": 17
        }
      ]
    },
    {
      "cell_type": "markdown",
      "metadata": {
        "id": "zXiMSHX6A9SD",
        "colab_type": "text"
      },
      "source": [
        "\n",
        "### Query #2:\n",
        "\n",
        " \n",
        "Following the previous query, this query will be used by the career fair team \n",
        "to collect information about the job, recruiter and the booth that a \n",
        "particular student is interested in. This will allow the team to send students (emails collected in previous query) the important information they would need before attending the career fair. \n"
      ]
    },
    {
      "cell_type": "code",
      "metadata": {
        "id": "P3HXx_vDlafc",
        "colab_type": "code",
        "outputId": "395318cf-1f0b-4d73-a09d-616c000486e3",
        "colab": {
          "base_uri": "https://localhost:8080/",
          "height": 92
        }
      },
      "source": [
        "%%sql \n",
        "SELECT j.company, ApplicationDeadline, JobTitle, BoothNumber, Date, Time, RecruiterFirstName, RecruiterLastName \n",
        "from Jobinfo j, Companyinfo c, companybooths b \n",
        "WHERE j.company = b.company and j.company = c.company and j.company= \"PWC\" "
      ],
      "execution_count": 0,
      "outputs": [
        {
          "output_type": "stream",
          "text": [
            " * sqlite:///CareerFairDatabase.db\n",
            "Done.\n"
          ],
          "name": "stdout"
        },
        {
          "output_type": "execute_result",
          "data": {
            "text/html": [
              "<table>\n",
              "    <tr>\n",
              "        <th>Company</th>\n",
              "        <th>ApplicationDeadline</th>\n",
              "        <th>JobTitle</th>\n",
              "        <th>BoothNumber</th>\n",
              "        <th>Date</th>\n",
              "        <th>Time</th>\n",
              "        <th>RecruiterFirstName</th>\n",
              "        <th>RecruiterLastName</th>\n",
              "    </tr>\n",
              "    <tr>\n",
              "        <td>PWC</td>\n",
              "        <td>2020-04-26</td>\n",
              "        <td>ResearchAssistant</td>\n",
              "        <td>345</td>\n",
              "        <td>2020-05-01</td>\n",
              "        <td>14:00</td>\n",
              "        <td>Anna</td>\n",
              "        <td>Smith</td>\n",
              "    </tr>\n",
              "</table>"
            ],
            "text/plain": [
              "[('PWC', '2020-04-26', 'ResearchAssistant', '345', '2020-05-01', '14:00', 'Anna', 'Smith')]"
            ]
          },
          "metadata": {
            "tags": []
          },
          "execution_count": 22
        }
      ]
    },
    {
      "cell_type": "markdown",
      "metadata": {
        "id": "ZCiw0vLIBDnE",
        "colab_type": "text"
      },
      "source": [
        "### Query #3:\n",
        " \n",
        "\n",
        "This query will be used to pull information about the students such as GPA, graduation year, and major, that are interested in the job postings from PWC. This would allow the team from the career fair to send the students information to recruiters. The recruiters will be able to know who is most likely to visit their table at the career fair and will be able to contact the students before hand with any information about the different opportunities the firm has to offer."
      ]
    },
    {
      "cell_type": "code",
      "metadata": {
        "id": "sUv5io21jPQY",
        "colab_type": "code",
        "outputId": "24dc24e7-1a6f-41b4-c57c-c430543dc537",
        "colab": {
          "base_uri": "https://localhost:8080/",
          "height": 92
        }
      },
      "source": [
        "%%sql\n",
        "SELECT s.transcript, FirstName, LastName, Email, PrimaryMajor, GPA, GraduationYear, j.PostID from studentinfo s, Transcripts t, jobinfo j where j.PostID = s.PostID and s.Transcript= t.Transcript and company = \"PWC\" \n"
      ],
      "execution_count": 0,
      "outputs": [
        {
          "output_type": "stream",
          "text": [
            " * sqlite:///CareerFairDatabase.db\n",
            "Done.\n"
          ],
          "name": "stdout"
        },
        {
          "output_type": "execute_result",
          "data": {
            "text/html": [
              "<table>\n",
              "    <tr>\n",
              "        <th>Transcript</th>\n",
              "        <th>FirstName</th>\n",
              "        <th>LastName</th>\n",
              "        <th>Email</th>\n",
              "        <th>PrimaryMajor</th>\n",
              "        <th>GPA</th>\n",
              "        <th>GraduationYear</th>\n",
              "        <th>PostID</th>\n",
              "    </tr>\n",
              "    <tr>\n",
              "        <td>2087403</td>\n",
              "        <td>Shruthi</td>\n",
              "        <td>Kripashankar</td>\n",
              "        <td>sdf435</td>\n",
              "        <td>Economics</td>\n",
              "        <td>3.4</td>\n",
              "        <td>2020</td>\n",
              "        <td>1234567</td>\n",
              "    </tr>\n",
              "</table>"
            ],
            "text/plain": [
              "[('2087403', 'Shruthi', 'Kripashankar', 'sdf435', 'Economics', 3.4, '2020', '1234567')]"
            ]
          },
          "metadata": {
            "tags": []
          },
          "execution_count": 33
        }
      ]
    }
  ]
}