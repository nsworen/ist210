{
  "nbformat": 4,
  "nbformat_minor": 0,
  "metadata": {
    "colab": {
      "name": "Group Assignment 1",
      "provenance": [],
      "collapsed_sections": [],
      "include_colab_link": true
    },
    "kernelspec": {
      "display_name": "Python 3",
      "name": "python3"
    }
  },
  "cells": [
    {
      "cell_type": "markdown",
      "metadata": {
        "id": "view-in-github",
        "colab_type": "text"
      },
      "source": [
        "<a href=\"https://colab.research.google.com/github/nsworen/ist210/blob/master/Group_Assignment_1.ipynb\" target=\"_parent\"><img src=\"https://colab.research.google.com/assets/colab-badge.svg\" alt=\"Open In Colab\"/></a>"
      ]
    },
    {
      "cell_type": "markdown",
      "metadata": {
        "id": "WKfU--uHRMCW",
        "colab_type": "text"
      },
      "source": [
        "#**Idea 1: Career Fair Database**"
      ]
    },
    {
      "cell_type": "markdown",
      "metadata": {
        "id": "9vx66PGxRVtA",
        "colab_type": "text"
      },
      "source": [
        "This is a database for an app that will match a student with a job that best fits their stream, interests, academic history, etc. The database will contain information on all the employers that attend the career fair and recruit heavily at Penn State, and all students who attend Penn state.\n",
        "This is a way for students to look into possible jobs they were paired with as a way to help them explore the job market because many students are often lost as to what they want to look for at the career fair. This app is something that students have never seen before and can possibly make the process of attending the career fair. This database is the first step to setting the app up.\n",
        "\n",
        "The five tables for this database would include:\n",
        "\n",
        "### 1. Job information (To understand what the job is)\n",
        "* Available positions (constraint: from 03/01/2020 onwards)\n",
        "* Deadlines for each\n",
        "* Industry\n",
        "* Job requirements\n",
        "* Paid or unpaid \n",
        "* Resume, cover letter, transcript\n",
        "* location\n",
        "* majors they are looking for \n",
        "\n",
        "\n",
        "### 2. Company information (for an idea of what the company will be like)\n",
        "* Mission and vision\n",
        "* Values \n",
        "* Skills they want to see in the workplace \n",
        "* Visa sponsorship\n",
        "\n",
        "\n",
        "### 3. Student information (dynamic) (to provide basic information of the student)\n",
        "* Name\n",
        "* ID number (9XXXX XXXX)\n",
        "* Age (less than or equal to 16)\n",
        "* Graduating year\n",
        "* Email (XXXXX@yyyyyy.com)\n",
        "\n",
        "\n",
        "### 4. Student’s academic information (to understand the academic background of each student)\n",
        "* Major \n",
        "* minors (if any)\n",
        "* Certificate\n",
        "* Academic awards\n",
        "* GPA\n",
        "\n",
        "    \n",
        "### 5. Student’s real-world experience (to get an understanding of what the students know and can transfer to the position)\n",
        "* Involvement in campus (clubs) \n",
        "* Work experience\n",
        "* Skills \n",
        "\n",
        "![alt text](https://raw.githubusercontent.com/nsworen/ist210/master/careerfair.png)"
      ]
    },
    {
      "cell_type": "markdown",
      "metadata": {
        "id": "vAc3OT4nRZ-2",
        "colab_type": "text"
      },
      "source": [
        "#**Idea 2: UPAC Club Funding Database**"
      ]
    },
    {
      "cell_type": "markdown",
      "metadata": {
        "id": "LnY5ZVoPRiGW",
        "colab_type": "text"
      },
      "source": [
        "The idea is to create a database showing the way funds from the Student Initiated Fee are allocated towards University Park organizations and individuals for events, travel, and equipment. We will also attempt to look at how the funded organizations are using their funds, and how much of it they are using. We will be borrowing data from UPAC. This organization has to frequently review requests for funding and decide if they can be awarded the funding they requested and in what amount. The organization has to frequently correspond with organizations and individuals who have received funding to be sure the funds are being used appropriately and for what they were allocated for. \n",
        "Our database would attempt to see what kinds of organizations are receiving the most money, and just how much that is. The database would also attempt to identify areas of wasted money, where organizations are either receiving unfairly large amounts of money, or they are reporting having surplus funds. The tables will allow us to see an overview of all the funds involved with UPAC. We’ll use the tables to see if there are any discrepancies with the amount of money coming in and the amount of money being allocated to university park organizations.\n",
        "\n",
        "The five tables for this database would include:\n",
        "\n",
        "### 1. Club info (store basic information about the club)\n",
        "* Leadership\n",
        "    * Contact Info (email, phone number)\n",
        "* Members\n",
        "    * Contact Info (email, phone number)\n",
        "\n",
        "\n",
        "### 2. Funding Traffic  (minimum value set at zero, maximum at 50000)\n",
        "* How much funding is there\n",
        "* How much is used to run UPAC\n",
        "* How much is given to organizations\n",
        "\n",
        "\n",
        "### 3. Funding allocation (minimum value set at zero)\n",
        "* Who receives funding (Club, individual, etc)\n",
        "    * Basic Info about clubs (purpose, member count)\n",
        "* How much do they recieve\n",
        "\n",
        "\n",
        "### 4. Funding applications\n",
        "* Due Date (restricts out instances over 10 years old)\n",
        "* Minimum and Maximum Funding Requests\n",
        "\n",
        "    \n",
        "### 5. Fund Sources \n",
        "* Who supplies funds\n",
        "* How much do they supply (minimum value set to zero, maximum at 5000)\n",
        "\n",
        "![alt text](https://raw.githubusercontent.com/nsworen/ist210/master/UPAC.png)"
      ]
    },
    {
      "cell_type": "markdown",
      "metadata": {
        "id": "3GJDeERdRnEz",
        "colab_type": "text"
      },
      "source": [
        "#**Idea 3: Mock Trial Judges Database**"
      ]
    },
    {
      "cell_type": "markdown",
      "metadata": {
        "id": "5jSx8F0dR4Yh",
        "colab_type": "text"
      },
      "source": [
        "This idea is to create a database for Penn State Mock Trial to better organize their judging pool in order to make obtaining judges for each competition easier. The organization hosts 4 tournaments throughout the year and asks local law professionals, law students, and mock trial alumni to judge the competitions. The Judging Coordinator is tasked with sending out emails to our judging list (comprised of 700+ people) to obtain judges for these tournaments. Another task is to pair the judges in groups of 2 for each round in the tournament so that there is always at least one experienced judge in each trial. This is a unique idea and a brand-new “product” because it is very specific to one particular organization on campus and helps solve a problem for that organization in a way that has never been done before. However, the data will be pulled from an existing list of judges that the organization already has. The goal of this database is to figure out which judges have the most experience. This will use the “judges” table, “experience” table, and “previous tournaments” table.\n",
        "\n",
        "The five tables for this database would include:\n",
        "\n",
        "### 1. Judge (to know who the people are)\n",
        "* Title (attorney, judge, etc.)\n",
        "* First Name\n",
        "* Last Name\n",
        "* Email\n",
        "* Phone number (Constraint: X (XXX) XXX-XXXX\n",
        "\n",
        "### 2. Experience (to determine which judges are more experienced than others)\n",
        "* Occupation\n",
        "* If Legal professional: \n",
        "    * litigation/ non-litigation\n",
        "    * years in law\n",
        "* Mock trial experience\n",
        "* Competed in high school, college, law school\n",
        "* Number of rounds previously judged\n",
        "* Category of judge (Constraint: 1, 2, or 3)\n",
        "* Preference to preside or score\n",
        "\n",
        "### 3. Conflicts (can be dynamic) (to avoid having people judge teams that they would have a bias towards)\n",
        "* Any schools/ specific competitors they have a personal relationship with and would not be able to judge\n",
        "\n",
        "### 4. Previous Tournaments Judged (dynamic) (to determine a judge’s experience in judging mock trial competitions)\n",
        "* Fall IM\n",
        "    * Year(s) (Constraint: 2000-2019)\n",
        "* Happy Valley Invitational\n",
        "    * Year(s) (Constraint: 2007-2019)\n",
        "* Blue and White Courtroom Classic\n",
        "    * Year(s) (Constraint: 2016-2019)\n",
        "* State College Regionals\n",
        "    * Year(s) (Constraint: 2000-2019)\n",
        "    \n",
        "### 5. Basic Tournament Information for 2019-2020 (to provide more information about the tournaments the judges are judging in the current year)\n",
        "* Fall IM\n",
        "    * Dates (Constraint: 2019)\n",
        "    * Times of rounds (Constraint: 1-4)\n",
        "    * Number of teams competing\n",
        "* Happy Valley Invitational\n",
        "    * Dates (Constraint: 2019)\n",
        "    * Times of rounds (Constraint: 1-4)\n",
        "    * Number of teams competing\n",
        "* Blue and White Courtroom Classic\n",
        "    * Dates (Constraint: 2020)\n",
        "    * Times of rounds (Constraint: 1-4)\n",
        "    * Number of teams competing\n",
        "* State College Regionals\n",
        "    * Dates (Constraint: 2020)\n",
        "    * Times of rounds  (Constraint: 1-4)\n",
        "    * Number of teams competing\n",
        "\n",
        "![alt text](https://raw.githubusercontent.com/nsworen/ist210/master/judges.png)"
      ]
    }
  ]
}