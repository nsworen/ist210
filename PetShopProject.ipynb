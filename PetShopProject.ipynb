{
  "nbformat": 4,
  "nbformat_minor": 0,
  "metadata": {
    "colab": {
      "name": "PetShopProject.ipynb",
      "provenance": [],
      "authorship_tag": "ABX9TyOgBBCYtjdVpT3SCeUYMUCt",
      "include_colab_link": true
    },
    "kernelspec": {
      "name": "python3",
      "display_name": "Python 3"
    }
  },
  "cells": [
    {
      "cell_type": "markdown",
      "metadata": {
        "id": "view-in-github",
        "colab_type": "text"
      },
      "source": [
        "<a href=\"https://colab.research.google.com/github/nsworen/ist210/blob/master/PetShopProject.ipynb\" target=\"_parent\"><img src=\"https://colab.research.google.com/assets/colab-badge.svg\" alt=\"Open In Colab\"/></a>"
      ]
    },
    {
      "cell_type": "code",
      "metadata": {
        "id": "GF38J54i2DPp",
        "colab_type": "code",
        "colab": {}
      },
      "source": [
        ""
      ],
      "execution_count": 0,
      "outputs": []
    },
    {
      "cell_type": "markdown",
      "metadata": {
        "id": "ZIeNYRLg2Dwn",
        "colab_type": "text"
      },
      "source": [
        "#**Pet Shop Project**\n"
      ]
    },
    {
      "cell_type": "markdown",
      "metadata": {
        "id": "g0lk_heS2hpR",
        "colab_type": "text"
      },
      "source": [
        "My pet shop is a two floor store that sells many different kinds of pets and food. All the pets in the store are kept in different enclosures. Each of the enclosures can be located on the first or second floor and can be different sizes and types depending on the type of animal it is housing. Each enclosure may be empty or house up to 10 different animals. For example, a snake may be in an enclosure by itself, but there can be up to 10 parrots in one enclosure. Each of the enclosures have their own unique ID so if an employee is looking for an animal they will know which enclosure it is located in. Each animal in the store has atleast one recommended food brand to buy with it, but can have up to three different recomendations. Each type of food has its own unique food ID so an employee can easily search up what the recommended food is for the animal in the store's database. For each food transaction, it is anticipated that there are no more than six different types of food purchased. Each transaction in the store awards the customer loyalty points based off of their loyalty ID (unique for each customer) that they can scan at checkout. Each food transaction awards the customer with ten percent off their next purchase and each pet transaction awards the customer twenty percent off their next purchase. It is also assumed that each customer will have no more than two food / pet transactions a day (in case they forgot something). \n",
        " \n",
        " \n",
        "![alt text](https://github.com/nsworen/ist210/blob/master/Pet%20Shop.png?raw=true)"
      ]
    }
  ]
}