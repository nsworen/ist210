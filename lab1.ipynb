{
  "nbformat": 4,
  "nbformat_minor": 0,
  "metadata": {
    "colab": {
      "name": "lab1.ipynb",
      "provenance": [],
      "authorship_tag": "ABX9TyPP4glcqzxZpM3SgtOcX8l8",
      "include_colab_link": true
    },
    "kernelspec": {
      "name": "python3",
      "display_name": "Python 3"
    }
  },
  "cells": [
    {
      "cell_type": "markdown",
      "metadata": {
        "id": "view-in-github",
        "colab_type": "text"
      },
      "source": [
        "<a href=\"https://colab.research.google.com/github/nsworen/ist210/blob/master/lab1.ipynb\" target=\"_parent\"><img src=\"https://colab.research.google.com/assets/colab-badge.svg\" alt=\"Open In Colab\"/></a>"
      ]
    },
    {
      "cell_type": "markdown",
      "metadata": {
        "id": "1FOmO0kyLxLk",
        "colab_type": "text"
      },
      "source": [
        "### Nikolas Sworen"
      ]
    },
    {
      "cell_type": "markdown",
      "metadata": {
        "id": "5q4mK4CHL0ve",
        "colab_type": "text"
      },
      "source": [
        "### Data analysis and SQL\n"
      ]
    },
    {
      "cell_type": "markdown",
      "metadata": {
        "id": "bgwbZuU3L4Vy",
        "colab_type": "text"
      },
      "source": [
        "### Data Scientist"
      ]
    },
    {
      "cell_type": "markdown",
      "metadata": {
        "id": "cZMLzzMjL7BO",
        "colab_type": "text"
      },
      "source": [
        "![alt text](https://raw.githubusercontent.com/nsworen/ist210/master/propic.png)"
      ]
    }
  ]
}