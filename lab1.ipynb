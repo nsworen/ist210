{
  "nbformat": 4,
  "nbformat_minor": 0,
  "metadata": {
    "colab": {
      "name": "lab1.ipynb",
      "provenance": [],
      "authorship_tag": "ABX9TyO4Pex0Dn+gDmhXrrWAeAn1",
      "include_colab_link": true
    },
    "kernelspec": {
      "name": "python3",
      "display_name": "Python 3"
    }
  },
  "cells": [
    {
      "cell_type": "markdown",
      "metadata": {
        "id": "view-in-github",
        "colab_type": "text"
      },
      "source": [
        "<a href=\"https://colab.research.google.com/github/nsworen/ist210/blob/master/lab1.ipynb\" target=\"_parent\"><img src=\"https://colab.research.google.com/assets/colab-badge.svg\" alt=\"Open In Colab\"/></a>"
      ]
    },
    {
      "cell_type": "code",
      "metadata": {
        "id": "MytCpiFuFAER",
        "colab_type": "code",
        "colab": {}
      },
      "source": [
        "### Nikolas Sworen\n",
        "### Data analysis and SQL\n",
        "### Data Scientist\n",
        "https://raw.githubusercontent.com/nsworen/ist210/master/propic.png\n",
        "\n"
      ],
      "execution_count": 0,
      "outputs": []
    }
  ]
}